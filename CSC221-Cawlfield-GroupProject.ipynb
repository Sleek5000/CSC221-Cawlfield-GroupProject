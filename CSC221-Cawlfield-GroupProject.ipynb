{
 "cells": [
  {
   "cell_type": "markdown",
   "id": "2083fff5",
   "metadata": {},
   "source": [
    "# Group Project"
   ]
  },
  {
   "cell_type": "markdown",
   "id": "bb5d22a0",
   "metadata": {},
   "source": [
    "### Author: <font color='red'> Owen Cawlfield </font>"
   ]
  },
  {
   "cell_type": "code",
   "execution_count": 2,
   "id": "4115bb34",
   "metadata": {},
   "outputs": [
    {
     "name": "stdout",
     "output_type": "stream",
     "text": [
      "Annual Mean Global Carbon Dioxide Growth Rates\n",
      " Year  Growth (ppm)\n",
      " 1959          0.96\n",
      " 1960          0.71\n",
      " 1961          0.78\n",
      " 1962          0.56\n",
      " 1963          0.57\n",
      " 1964          0.49\n",
      " 1965          1.10\n",
      " 1966          1.10\n",
      " 1967          0.61\n",
      " 1968          0.99\n",
      " 1969          1.32\n",
      " 1970          1.13\n",
      " 1971          0.73\n",
      " 1972          1.47\n",
      " 1973          1.46\n",
      " 1974          0.68\n",
      " 1975          1.23\n",
      " 1976          0.97\n",
      " 1977          1.92\n",
      " 1978          1.29\n",
      " 1979          2.14\n",
      " 1980          1.71\n",
      " 1981          1.15\n",
      " 1982          1.00\n",
      " 1983          1.83\n",
      " 1984          1.23\n",
      " 1985          1.65\n",
      " 1986          1.02\n",
      " 1987          2.65\n",
      " 1988          2.17\n",
      " 1989          1.46\n",
      " 1990          1.22\n",
      " 1991          0.74\n",
      " 1992          0.72\n",
      " 1993          1.23\n",
      " 1994          1.66\n",
      " 1995          2.00\n",
      " 1996          1.05\n",
      " 1997          1.97\n",
      " 1998          2.84\n",
      " 1999          1.33\n",
      " 2000          1.25\n",
      " 2001          1.85\n",
      " 2002          2.36\n",
      " 2003          2.29\n",
      " 2004          1.56\n",
      " 2005          2.47\n",
      " 2006          1.77\n",
      " 2007          2.12\n",
      " 2008          1.77\n",
      " 2009          1.58\n",
      " 2010          2.42\n",
      " 2011          1.68\n",
      " 2012          2.41\n",
      " 2013          2.45\n",
      " 2014          2.04\n",
      " 2015          2.95\n",
      " 2016          2.84\n",
      " 2017          2.14\n",
      " 2018          2.39\n",
      " 2019          2.51\n",
      " 2020          2.35\n",
      " 2021          2.45\n",
      " 2022          2.17\n"
     ]
    }
   ],
   "source": [
    "import pandas as pd\n",
    "\n",
    "\n",
    "\n",
    "\n",
    "url2 = \"https://gml.noaa.gov/ccgg/trends/gl_gr.html\"\n",
    "tables2 = pd.read_html(url2)[0].iloc[:, 0:2]\n",
    "df = pd.DataFrame(tables2)\n",
    "print(\"Annual Mean Global Carbon Dioxide Growth Rates\")\n",
    "print(df.to_string(index=False))\n",
    "\n",
    "df.to_csv('CSC221-webscrape-data.csv', index=False)\n",
    "\n",
    "\n"
   ]
  },
  {
   "cell_type": "code",
   "execution_count": null,
   "id": "e22afb45",
   "metadata": {},
   "outputs": [],
   "source": []
  }
 ],
 "metadata": {
  "kernelspec": {
   "display_name": "Python 3 (ipykernel)",
   "language": "python",
   "name": "python3"
  },
  "language_info": {
   "codemirror_mode": {
    "name": "ipython",
    "version": 3
   },
   "file_extension": ".py",
   "mimetype": "text/x-python",
   "name": "python",
   "nbconvert_exporter": "python",
   "pygments_lexer": "ipython3",
   "version": "3.11.4"
  }
 },
 "nbformat": 4,
 "nbformat_minor": 5
}
